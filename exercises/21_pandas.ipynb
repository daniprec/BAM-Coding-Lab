{
 "cells": [
  {
   "cell_type": "code",
   "execution_count": 11,
   "metadata": {},
   "outputs": [],
   "source": [
    "import numpy as np\n",
    "import pandas as pd\n",
    "import matplotlib.pyplot as plt"
   ]
  },
  {
   "cell_type": "markdown",
   "metadata": {},
   "source": [
    "# Workshop: Olympic Medals\n",
    "\n",
    "<img src=\"https://upload.wikimedia.org/wikipedia/commons/thumb/5/5c/Olympic_rings_without_rims.svg/1920px-Olympic_rings_without_rims.png\" width=300>\n",
    "\n",
    "First clone the repository at [https://github.com/daniprec/BAM-Coding-Lab](https://github.com/daniprec/BAM-Coding-Lab)\n",
    "\n",
    "You will find the data inside `data/olympics`.\n"
   ]
  },
  {
   "cell_type": "markdown",
   "metadata": {},
   "source": [
    "## 🔍 Data Loading and EDA"
   ]
  },
  {
   "cell_type": "code",
   "execution_count": 12,
   "metadata": {},
   "outputs": [
    {
     "data": {
      "text/html": [
       "<div>\n",
       "<style scoped>\n",
       "    .dataframe tbody tr th:only-of-type {\n",
       "        vertical-align: middle;\n",
       "    }\n",
       "\n",
       "    .dataframe tbody tr th {\n",
       "        vertical-align: top;\n",
       "    }\n",
       "\n",
       "    .dataframe thead th {\n",
       "        text-align: right;\n",
       "    }\n",
       "</style>\n",
       "<table border=\"1\" class=\"dataframe\">\n",
       "  <thead>\n",
       "    <tr style=\"text-align: right;\">\n",
       "      <th></th>\n",
       "      <th>edition</th>\n",
       "      <th>edition_id</th>\n",
       "      <th>country_noc</th>\n",
       "      <th>sport</th>\n",
       "      <th>event</th>\n",
       "      <th>result_id</th>\n",
       "      <th>athlete</th>\n",
       "      <th>athlete_id</th>\n",
       "      <th>pos</th>\n",
       "      <th>medal</th>\n",
       "      <th>isTeamSport</th>\n",
       "    </tr>\n",
       "  </thead>\n",
       "  <tbody>\n",
       "    <tr>\n",
       "      <th>0</th>\n",
       "      <td>1908 Summer Olympics</td>\n",
       "      <td>5</td>\n",
       "      <td>ANZ</td>\n",
       "      <td>Athletics</td>\n",
       "      <td>100 metres, Men</td>\n",
       "      <td>56265</td>\n",
       "      <td>Ernest Hutcheon</td>\n",
       "      <td>64710</td>\n",
       "      <td>DNS</td>\n",
       "      <td>NaN</td>\n",
       "      <td>False</td>\n",
       "    </tr>\n",
       "    <tr>\n",
       "      <th>1</th>\n",
       "      <td>1908 Summer Olympics</td>\n",
       "      <td>5</td>\n",
       "      <td>ANZ</td>\n",
       "      <td>Athletics</td>\n",
       "      <td>400 metres, Men</td>\n",
       "      <td>56313</td>\n",
       "      <td>Henry Murray</td>\n",
       "      <td>64756</td>\n",
       "      <td>DNS</td>\n",
       "      <td>NaN</td>\n",
       "      <td>False</td>\n",
       "    </tr>\n",
       "    <tr>\n",
       "      <th>2</th>\n",
       "      <td>1908 Summer Olympics</td>\n",
       "      <td>5</td>\n",
       "      <td>ANZ</td>\n",
       "      <td>Athletics</td>\n",
       "      <td>800 metres, Men</td>\n",
       "      <td>56338</td>\n",
       "      <td>Harvey Sutton</td>\n",
       "      <td>64808</td>\n",
       "      <td>3 h8 r1/2</td>\n",
       "      <td>NaN</td>\n",
       "      <td>False</td>\n",
       "    </tr>\n",
       "    <tr>\n",
       "      <th>3</th>\n",
       "      <td>1908 Summer Olympics</td>\n",
       "      <td>5</td>\n",
       "      <td>ANZ</td>\n",
       "      <td>Athletics</td>\n",
       "      <td>800 metres, Men</td>\n",
       "      <td>56338</td>\n",
       "      <td>Guy Haskins</td>\n",
       "      <td>922519</td>\n",
       "      <td>DNS</td>\n",
       "      <td>NaN</td>\n",
       "      <td>False</td>\n",
       "    </tr>\n",
       "    <tr>\n",
       "      <th>4</th>\n",
       "      <td>1908 Summer Olympics</td>\n",
       "      <td>5</td>\n",
       "      <td>ANZ</td>\n",
       "      <td>Athletics</td>\n",
       "      <td>800 metres, Men</td>\n",
       "      <td>56338</td>\n",
       "      <td>Joseph Lynch</td>\n",
       "      <td>64735</td>\n",
       "      <td>DNS</td>\n",
       "      <td>NaN</td>\n",
       "      <td>False</td>\n",
       "    </tr>\n",
       "  </tbody>\n",
       "</table>\n",
       "</div>"
      ],
      "text/plain": [
       "                edition  edition_id country_noc      sport            event  \\\n",
       "0  1908 Summer Olympics           5         ANZ  Athletics  100 metres, Men   \n",
       "1  1908 Summer Olympics           5         ANZ  Athletics  400 metres, Men   \n",
       "2  1908 Summer Olympics           5         ANZ  Athletics  800 metres, Men   \n",
       "3  1908 Summer Olympics           5         ANZ  Athletics  800 metres, Men   \n",
       "4  1908 Summer Olympics           5         ANZ  Athletics  800 metres, Men   \n",
       "\n",
       "   result_id          athlete  athlete_id        pos medal  isTeamSport  \n",
       "0      56265  Ernest Hutcheon       64710        DNS   NaN        False  \n",
       "1      56313     Henry Murray       64756        DNS   NaN        False  \n",
       "2      56338    Harvey Sutton       64808  3 h8 r1/2   NaN        False  \n",
       "3      56338      Guy Haskins      922519        DNS   NaN        False  \n",
       "4      56338     Joseph Lynch       64735        DNS   NaN        False  "
      ]
     },
     "execution_count": 12,
     "metadata": {},
     "output_type": "execute_result"
    }
   ],
   "source": [
    "path_folder = \"../data/olympics/\"\n",
    "path_csv = path_folder + \"olympics_medals.csv\"\n",
    "\n",
    "# We use \"read_csv\" to load a \"csv\" file\n",
    "df = pd.read_csv(path_csv)\n",
    "\n",
    "# \"head(n)\" returns the first n rows\n",
    "df.head(5)"
   ]
  },
  {
   "cell_type": "code",
   "execution_count": null,
   "metadata": {},
   "outputs": [],
   "source": [
    "# \"shape\" returns the number of rows and columns\n",
    "print(df.shape)"
   ]
  },
  {
   "cell_type": "code",
   "execution_count": null,
   "metadata": {},
   "outputs": [],
   "source": [
    "# \"columns\" returns the column names\n",
    "print(df.columns)"
   ]
  },
  {
   "cell_type": "code",
   "execution_count": null,
   "metadata": {},
   "outputs": [],
   "source": [
    "# \"info()\" prints a concise summary of a dataframe\n",
    "print(df.info())"
   ]
  },
  {
   "cell_type": "markdown",
   "metadata": {},
   "source": [
    "---"
   ]
  },
  {
   "cell_type": "markdown",
   "metadata": {},
   "source": [
    "## ⚡ Data Cleaning and Processing"
   ]
  },
  {
   "cell_type": "markdown",
   "metadata": {},
   "source": [
    "The **\"edition\"** column contains the season and year, for instance \"2020 Summer Olympics\". Lets try to split this information into two columns:\n",
    "- **\"year\"**, for instance \"2020\" (should be an integer).\n",
    "- **\"season\"**, for instance \"Summer\" (as a string)."
   ]
  },
  {
   "cell_type": "code",
   "execution_count": null,
   "metadata": {},
   "outputs": [],
   "source": [
    "print(df[\"edition\"].value_counts())"
   ]
  },
  {
   "cell_type": "code",
   "execution_count": null,
   "metadata": {},
   "outputs": [],
   "source": [
    "# We use the string method \"split\"\n",
    "# Alternative: use regex with \"re\" library (more robust)\n",
    "df[\"year\"] = df[\"edition\"].apply(lambda x: int(x.split()[0]))\n",
    "print(df[\"year\"].value_counts()[:5])\n",
    "\n",
    "df[\"season\"] = df[\"edition\"].apply(lambda x: x.split()[1])\n",
    "print(df[\"season\"].value_counts())"
   ]
  },
  {
   "cell_type": "markdown",
   "metadata": {},
   "source": [
    "During EDA we have seen that the **\"medal\"** column has NaNs. These non-values represence the absence of a medal. To avoid confussion, lets replace it with a value!"
   ]
  },
  {
   "cell_type": "code",
   "execution_count": null,
   "metadata": {},
   "outputs": [],
   "source": [
    "# We first see the values contained inside the \"medal\" column\n",
    "print(df[\"medal\"].value_counts())"
   ]
  },
  {
   "cell_type": "code",
   "execution_count": null,
   "metadata": {},
   "outputs": [],
   "source": [
    "# Replace NaNs with \"No\"\n",
    "df[\"medal\"].fillna(\"No\", inplace=True)\n",
    "\n",
    "print(df[\"medal\"].value_counts())"
   ]
  },
  {
   "cell_type": "markdown",
   "metadata": {},
   "source": [
    "**Exercise:** In the column \"event\" you will see that some sports have the \"Men\" tag while others have the \"Women\" tag. Split the column into two:\n",
    "- \"event_simple\" with the name without gender.\n",
    "- \"gender\" being either \"Men\", \"Women\" or \"Unknown\".\n",
    "\n",
    "For instance, the value \"Football, Men\" should turn into \"Football\" and \"Men\""
   ]
  },
  {
   "cell_type": "code",
   "execution_count": 13,
   "metadata": {},
   "outputs": [],
   "source": [
    "def split_event_gender(event: str) -> tuple:\n",
    "  if \"women\" in event.lower():\n",
    "    return event.split(\", \")[0], \"Women\"\n",
    "  elif \"men\" in event.lower():\n",
    "    return event.split(\", \")[0], \"Men\"\n",
    "  else:\n",
    "    return event, \"Unknown\"\n",
    "\n",
    "df[[\"event_simple\", \"gender\"]] = df[\"event\"].apply(split_event_gender).apply(pd.Series)"
   ]
  },
  {
   "cell_type": "markdown",
   "metadata": {},
   "source": [
    "---"
   ]
  },
  {
   "cell_type": "markdown",
   "metadata": {},
   "source": [
    "## 📊 Using the Data"
   ]
  },
  {
   "cell_type": "markdown",
   "metadata": {},
   "source": [
    "### ⚽ Sport Events"
   ]
  },
  {
   "cell_type": "markdown",
   "metadata": {},
   "source": [
    "**Exercise:** Find how many sport events there are. Ignore gender, i.e. \"Football, Men\" and \"Football, Women\" count only as one."
   ]
  },
  {
   "cell_type": "code",
   "execution_count": null,
   "metadata": {},
   "outputs": [],
   "source": [
    "print(df[\"event_simple\"].value_counts())"
   ]
  },
  {
   "cell_type": "markdown",
   "metadata": {},
   "source": [
    "**Exercise:** Plot a graph that shows the number of different sport events per year. Make a distinction between Summer and Winter olympics (and any other kind if any)."
   ]
  },
  {
   "cell_type": "code",
   "execution_count": null,
   "metadata": {},
   "outputs": [],
   "source": [
    "events_per_year = df.groupby([\"year\", \"season\"], as_index=False)[\"event_simple\"].nunique()\n",
    "\n",
    "events_per_year.head(5)"
   ]
  },
  {
   "cell_type": "code",
   "execution_count": null,
   "metadata": {},
   "outputs": [],
   "source": [
    "# Color by season\n",
    "def color_season(season: str) -> str:\n",
    "  if season.lower() == \"summer\":\n",
    "    return \"red\"\n",
    "  elif season.lower() == \"winter\":\n",
    "    return \"blue\"\n",
    "  else:\n",
    "    return \"gray\"\n",
    "\n",
    "# Create a scatter plot\n",
    "color = events_per_year[\"season\"].map(color_season)\n",
    "\n",
    "plt.figure(figsize=(10, 6))\n",
    "plt.scatter(events_per_year[\"year\"], events_per_year[\"event_simple\"], c=color)\n",
    "plt.xlabel(\"Year\")\n",
    "plt.ylabel(\"Number of Sports\")\n",
    "plt.show()"
   ]
  },
  {
   "cell_type": "markdown",
   "metadata": {},
   "source": [
    "### 🏅 Medalists"
   ]
  },
  {
   "cell_type": "markdown",
   "metadata": {},
   "source": [
    "**Exercise:** Find the athlete with the most medals. How many do they have?"
   ]
  },
  {
   "cell_type": "code",
   "execution_count": null,
   "metadata": {},
   "outputs": [],
   "source": [
    "mask_medal = df[\"medal\"] != \"No\"\n",
    "medal_by_athletes = df.loc[mask_medal, \"athlete\"].value_counts()\n",
    "top_athlete = medal_by_athletes.idxmax()\n",
    "\n",
    "print(f\"Top athlete is {top_athlete} with {medal_by_athletes[top_athlete]}\")"
   ]
  },
  {
   "cell_type": "markdown",
   "metadata": {},
   "source": [
    "**Exercise:** Compute the number of gold medals won by each country. Make a bar plot with the top 10 countries."
   ]
  },
  {
   "cell_type": "code",
   "execution_count": 14,
   "metadata": {},
   "outputs": [
    {
     "data": {
      "image/png": "[encoded data removed]",
      "text/plain": [
       "<Figure size 640x480 with 1 Axes>"
      ]
     },
     "metadata": {},
     "output_type": "display_data"
    }
   ],
   "source": [
    "mask_gold = df[\"medal\"] == \"Gold\"\n",
    "gold_by_country = df.loc[mask_gold, \"country_noc\"].value_counts()\n",
    "\n",
    "plt.bar(gold_by_country.index[:10], gold_by_country.values[:10])\n",
    "plt.ylabel(\"Number of Gold Medals\")\n",
    "plt.show()\n",
    "plt.close()"
   ]
  },
  {
   "cell_type": "markdown",
   "metadata": {},
   "source": [
    "**Exercise:** Now do a stacked bar plot with the number of gold, silver and bronze medals. Show the 10 countries with the biggest total amount."
   ]
  },
  {
   "cell_type": "code",
   "execution_count": 15,
   "metadata": {},
   "outputs": [
    {
     "data": {
      "image/png": "[encoded data removed]",
      "text/plain": [
       "<Figure size 640x480 with 1 Axes>"
      ]
     },
     "metadata": {},
     "output_type": "display_data"
    }
   ],
   "source": [
    "mask_medals = df[\"medal\"] != \"No\"\n",
    "medals_by_country = df.loc[mask_medals, \"country_noc\"].value_counts()\n",
    "top_countries = medals_by_country.index[:10].tolist()\n",
    "\n",
    "mask_bronze = df[\"medal\"] == \"Bronze\"\n",
    "bronze_by_country = df.loc[mask_bronze, \"country_noc\"].value_counts()\n",
    "bronze = bronze_by_country[top_countries]\n",
    "plt.bar(top_countries, bronze, color=\"red\", label=\"Bronze\")\n",
    "\n",
    "mask_silver = df[\"medal\"] == \"Silver\"\n",
    "silver_by_country = df.loc[mask_silver, \"country_noc\"].value_counts()\n",
    "silver = silver_by_country[top_countries]\n",
    "plt.bar(top_countries, silver, bottom=bronze, color=\"gray\", label=\"Silver\")\n",
    "\n",
    "mask_gold = df[\"medal\"] == \"Gold\"\n",
    "gold_by_country = df.loc[mask_gold, \"country_noc\"].value_counts()\n",
    "gold = gold_by_country[top_countries]\n",
    "plt.bar(top_countries, gold, bottom=bronze+silver, color=\"yellow\", label=\"Gold\")\n",
    "\n",
    "plt.legend()\n",
    "plt.ylabel(\"Number of Medals\")\n",
    "plt.show()\n",
    "plt.close()"
   ]
  },
  {
   "cell_type": "markdown",
   "metadata": {},
   "source": [
    "---"
   ]
  },
  {
   "cell_type": "markdown",
   "metadata": {},
   "source": [
    "### ➕ Adding More Data"
   ]
  },
  {
   "cell_type": "markdown",
   "metadata": {},
   "source": [
    "Merge both datasets and save the result."
   ]
  },
  {
   "cell_type": "code",
   "execution_count": null,
   "metadata": {},
   "outputs": [],
   "source": [
    "path_csv = path_folder + \"/olympics_medals_2024.csv\"\n",
    "\n",
    "df_new = pd.read_csv(path_csv)\n",
    "df_new.head(5)"
   ]
  },
  {
   "cell_type": "code",
   "execution_count": null,
   "metadata": {},
   "outputs": [],
   "source": [
    "df_new[\"medal_code\"].value_counts()"
   ]
  },
  {
   "cell_type": "markdown",
   "metadata": {},
   "source": []
  }
 ],
 "metadata": {
  "kernelspec": {
   "display_name": "Python 3",
   "language": "python",
   "name": "python3"
  },
  "language_info": {
   "codemirror_mode": {
    "name": "ipython",
    "version": 3
   },
   "file_extension": ".py",
   "mimetype": "text/x-python",
   "name": "python",
   "nbconvert_exporter": "python",
   "pygments_lexer": "ipython3",
   "version": "3.11.9"
  }
 },
 "nbformat": 4,
 "nbformat_minor": 2
}
