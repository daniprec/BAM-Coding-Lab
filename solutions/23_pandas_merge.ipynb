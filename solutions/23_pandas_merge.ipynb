{
 "cells": [
  {
   "cell_type": "markdown",
   "metadata": {},
   "source": [
    "# Workshop: Olympic Medals\n",
    "\n",
    "<img src=\"https://upload.wikimedia.org/wikipedia/commons/thumb/5/5c/Olympic_rings_without_rims.svg/1920px-Olympic_rings_without_rims.png\" width=300>\n",
    "\n",
    "First clone the repository at [https://github.com/daniprec/BAM-Coding-Lab](https://github.com/daniprec/BAM-Coding-Lab)\n",
    "\n",
    "You will find the data inside `data/olympics`.\n"
   ]
  },
  {
   "cell_type": "markdown",
   "metadata": {},
   "source": [
    "---"
   ]
  },
  {
   "cell_type": "code",
   "execution_count": 7,
   "metadata": {},
   "outputs": [],
   "source": [
    "import matplotlib.pyplot as plt\n",
    "import pandas as pd"
   ]
  },
  {
   "cell_type": "markdown",
   "metadata": {},
   "source": [
    "---"
   ]
  },
  {
   "cell_type": "markdown",
   "metadata": {},
   "source": [
    "## 💰 Gross Domestic Product (GDP) per Capita"
   ]
  },
  {
   "cell_type": "markdown",
   "metadata": {},
   "source": [
    "Now analyze the \"gdp.csv\" file, which includes data on all GDP per capita by year and country.\n",
    "\n",
    "Use the techniques we have learnt in the first notebook!"
   ]
  },
  {
   "cell_type": "code",
   "execution_count": 8,
   "metadata": {},
   "outputs": [
    {
     "data": {
      "text/html": [
       "<div>\n",
       "<style scoped>\n",
       "    .dataframe tbody tr th:only-of-type {\n",
       "        vertical-align: middle;\n",
       "    }\n",
       "\n",
       "    .dataframe tbody tr th {\n",
       "        vertical-align: top;\n",
       "    }\n",
       "\n",
       "    .dataframe thead th {\n",
       "        text-align: right;\n",
       "    }\n",
       "</style>\n",
       "<table border=\"1\" class=\"dataframe\">\n",
       "  <thead>\n",
       "    <tr style=\"text-align: right;\">\n",
       "      <th></th>\n",
       "      <th>Entity</th>\n",
       "      <th>Code</th>\n",
       "      <th>Year</th>\n",
       "      <th>GDP per capita, PPP (constant 2017 international $)</th>\n",
       "    </tr>\n",
       "  </thead>\n",
       "  <tbody>\n",
       "    <tr>\n",
       "      <th>0</th>\n",
       "      <td>Afghanistan</td>\n",
       "      <td>AFG</td>\n",
       "      <td>2002</td>\n",
       "      <td>1280.4631</td>\n",
       "    </tr>\n",
       "    <tr>\n",
       "      <th>1</th>\n",
       "      <td>Afghanistan</td>\n",
       "      <td>AFG</td>\n",
       "      <td>2003</td>\n",
       "      <td>1292.3335</td>\n",
       "    </tr>\n",
       "    <tr>\n",
       "      <th>2</th>\n",
       "      <td>Afghanistan</td>\n",
       "      <td>AFG</td>\n",
       "      <td>2004</td>\n",
       "      <td>1260.0605</td>\n",
       "    </tr>\n",
       "    <tr>\n",
       "      <th>3</th>\n",
       "      <td>Afghanistan</td>\n",
       "      <td>AFG</td>\n",
       "      <td>2005</td>\n",
       "      <td>NaN</td>\n",
       "    </tr>\n",
       "    <tr>\n",
       "      <th>4</th>\n",
       "      <td>Afghanistan</td>\n",
       "      <td>AFG</td>\n",
       "      <td>2006</td>\n",
       "      <td>1366.9932</td>\n",
       "    </tr>\n",
       "  </tbody>\n",
       "</table>\n",
       "</div>"
      ],
      "text/plain": [
       "        Entity Code  Year  GDP per capita, PPP (constant 2017 international $)\n",
       "0  Afghanistan  AFG  2002                                          1280.4631  \n",
       "1  Afghanistan  AFG  2003                                          1292.3335  \n",
       "2  Afghanistan  AFG  2004                                          1260.0605  \n",
       "3  Afghanistan  AFG  2005                                                NaN  \n",
       "4  Afghanistan  AFG  2006                                          1366.9932  "
      ]
     },
     "execution_count": 8,
     "metadata": {},
     "output_type": "execute_result"
    }
   ],
   "source": [
    "path_gdp = \"../data/olympics/gdp.csv\"\n",
    "\n",
    "df_gdp = pd.read_csv(path_gdp)\n",
    "\n",
    "df_gdp.head(5)"
   ]
  },
  {
   "cell_type": "code",
   "execution_count": 9,
   "metadata": {},
   "outputs": [],
   "source": [
    "# Rename columns\n",
    "df_gdp = df_gdp.rename(columns={\"GDP per capita, PPP (constant 2017 international $)\": \"GDP\"})\n",
    "\n",
    "# Drop \"Entity\" column (optional)\n",
    "df_gdp = df_gdp.drop(columns=[\"Entity\"])"
   ]
  },
  {
   "cell_type": "code",
   "execution_count": 10,
   "metadata": {},
   "outputs": [
    {
     "data": {
      "text/html": [
       "<div>\n",
       "<style scoped>\n",
       "    .dataframe tbody tr th:only-of-type {\n",
       "        vertical-align: middle;\n",
       "    }\n",
       "\n",
       "    .dataframe tbody tr th {\n",
       "        vertical-align: top;\n",
       "    }\n",
       "\n",
       "    .dataframe thead th {\n",
       "        text-align: right;\n",
       "    }\n",
       "</style>\n",
       "<table border=\"1\" class=\"dataframe\">\n",
       "  <thead>\n",
       "    <tr style=\"text-align: right;\">\n",
       "      <th></th>\n",
       "      <th>Code</th>\n",
       "      <th>Year</th>\n",
       "      <th>GDP</th>\n",
       "    </tr>\n",
       "  </thead>\n",
       "  <tbody>\n",
       "    <tr>\n",
       "      <th>0</th>\n",
       "      <td>AFG</td>\n",
       "      <td>2002</td>\n",
       "      <td>1280.46310</td>\n",
       "    </tr>\n",
       "    <tr>\n",
       "      <th>1</th>\n",
       "      <td>AFG</td>\n",
       "      <td>2003</td>\n",
       "      <td>1292.33350</td>\n",
       "    </tr>\n",
       "    <tr>\n",
       "      <th>2</th>\n",
       "      <td>AFG</td>\n",
       "      <td>2004</td>\n",
       "      <td>1260.06050</td>\n",
       "    </tr>\n",
       "    <tr>\n",
       "      <th>3</th>\n",
       "      <td>AFG</td>\n",
       "      <td>2005</td>\n",
       "      <td>1313.52685</td>\n",
       "    </tr>\n",
       "    <tr>\n",
       "      <th>4</th>\n",
       "      <td>AFG</td>\n",
       "      <td>2006</td>\n",
       "      <td>1366.99320</td>\n",
       "    </tr>\n",
       "  </tbody>\n",
       "</table>\n",
       "</div>"
      ],
      "text/plain": [
       "  Code  Year         GDP\n",
       "0  AFG  2002  1280.46310\n",
       "1  AFG  2003  1292.33350\n",
       "2  AFG  2004  1260.06050\n",
       "3  AFG  2005  1313.52685\n",
       "4  AFG  2006  1366.99320"
      ]
     },
     "execution_count": 10,
     "metadata": {},
     "output_type": "execute_result"
    }
   ],
   "source": [
    "# Fill the missing values of \"GDP\", applying a linear interpolation by \"Code\" and \"Year\"\n",
    "df_gdp[\"GDP\"] = df_gdp.groupby(\"Code\")[\"GDP\"].transform(lambda x: x.interpolate())\n",
    "\n",
    "# Check the result\n",
    "df_gdp.head(5)"
   ]
  },
  {
   "cell_type": "markdown",
   "metadata": {},
   "source": [
    "---"
   ]
  },
  {
   "cell_type": "markdown",
   "metadata": {},
   "source": [
    "## ➕ Merge Dataframes"
   ]
  },
  {
   "cell_type": "markdown",
   "metadata": {},
   "source": [
    "We will use the pipeline we created to load and process the \"olympics_medals.csv\""
   ]
  },
  {
   "cell_type": "code",
   "execution_count": 11,
   "metadata": {},
   "outputs": [
    {
     "name": "stdout",
     "output_type": "stream",
     "text": [
      "Index(['year', 'country_noc', 'medals'], dtype='object')\n"
     ]
    }
   ],
   "source": [
    "from olympics import load_and_preprocess, count_medals\n",
    "\n",
    "# Use our function to load and preprocess the data\n",
    "df_medals = load_and_preprocess(path_csv=\"../data/olympics/olympics_medals.csv\")\n",
    "df_medals = count_medals(df_medals)\n",
    "\n",
    "print(df_medals.columns)"
   ]
  },
  {
   "cell_type": "markdown",
   "metadata": {},
   "source": [
    "We can now use Pandas to merge both datasets!"
   ]
  },
  {
   "cell_type": "code",
   "execution_count": 12,
   "metadata": {},
   "outputs": [
    {
     "data": {
      "text/html": [
       "<div>\n",
       "<style scoped>\n",
       "    .dataframe tbody tr th:only-of-type {\n",
       "        vertical-align: middle;\n",
       "    }\n",
       "\n",
       "    .dataframe tbody tr th {\n",
       "        vertical-align: top;\n",
       "    }\n",
       "\n",
       "    .dataframe thead th {\n",
       "        text-align: right;\n",
       "    }\n",
       "</style>\n",
       "<table border=\"1\" class=\"dataframe\">\n",
       "  <thead>\n",
       "    <tr style=\"text-align: right;\">\n",
       "      <th></th>\n",
       "      <th>year</th>\n",
       "      <th>country_noc</th>\n",
       "      <th>medals</th>\n",
       "      <th>Code</th>\n",
       "      <th>Year</th>\n",
       "      <th>GDP</th>\n",
       "    </tr>\n",
       "  </thead>\n",
       "  <tbody>\n",
       "    <tr>\n",
       "      <th>0</th>\n",
       "      <td>1992</td>\n",
       "      <td>ARG</td>\n",
       "      <td>1</td>\n",
       "      <td>ARG</td>\n",
       "      <td>1992</td>\n",
       "      <td>16190.511</td>\n",
       "    </tr>\n",
       "    <tr>\n",
       "      <th>1</th>\n",
       "      <td>1992</td>\n",
       "      <td>AUS</td>\n",
       "      <td>27</td>\n",
       "      <td>AUS</td>\n",
       "      <td>1992</td>\n",
       "      <td>30180.310</td>\n",
       "    </tr>\n",
       "    <tr>\n",
       "      <th>2</th>\n",
       "      <td>1992</td>\n",
       "      <td>AUT</td>\n",
       "      <td>23</td>\n",
       "      <td>AUT</td>\n",
       "      <td>1992</td>\n",
       "      <td>38774.492</td>\n",
       "    </tr>\n",
       "    <tr>\n",
       "      <th>3</th>\n",
       "      <td>1992</td>\n",
       "      <td>BEL</td>\n",
       "      <td>3</td>\n",
       "      <td>BEL</td>\n",
       "      <td>1992</td>\n",
       "      <td>36426.992</td>\n",
       "    </tr>\n",
       "    <tr>\n",
       "      <th>4</th>\n",
       "      <td>1992</td>\n",
       "      <td>BRA</td>\n",
       "      <td>3</td>\n",
       "      <td>BRA</td>\n",
       "      <td>1992</td>\n",
       "      <td>10103.788</td>\n",
       "    </tr>\n",
       "    <tr>\n",
       "      <th>...</th>\n",
       "      <td>...</td>\n",
       "      <td>...</td>\n",
       "      <td>...</td>\n",
       "      <td>...</td>\n",
       "      <td>...</td>\n",
       "      <td>...</td>\n",
       "    </tr>\n",
       "    <tr>\n",
       "      <th>575</th>\n",
       "      <td>2022</td>\n",
       "      <td>POL</td>\n",
       "      <td>1</td>\n",
       "      <td>POL</td>\n",
       "      <td>2022</td>\n",
       "      <td>37706.605</td>\n",
       "    </tr>\n",
       "    <tr>\n",
       "      <th>576</th>\n",
       "      <td>2022</td>\n",
       "      <td>SVK</td>\n",
       "      <td>2</td>\n",
       "      <td>SVK</td>\n",
       "      <td>2022</td>\n",
       "      <td>33176.184</td>\n",
       "    </tr>\n",
       "    <tr>\n",
       "      <th>577</th>\n",
       "      <td>2022</td>\n",
       "      <td>SWE</td>\n",
       "      <td>18</td>\n",
       "      <td>SWE</td>\n",
       "      <td>2022</td>\n",
       "      <td>55359.344</td>\n",
       "    </tr>\n",
       "    <tr>\n",
       "      <th>578</th>\n",
       "      <td>2022</td>\n",
       "      <td>UKR</td>\n",
       "      <td>1</td>\n",
       "      <td>UKR</td>\n",
       "      <td>2022</td>\n",
       "      <td>10731.440</td>\n",
       "    </tr>\n",
       "    <tr>\n",
       "      <th>579</th>\n",
       "      <td>2022</td>\n",
       "      <td>USA</td>\n",
       "      <td>25</td>\n",
       "      <td>USA</td>\n",
       "      <td>2022</td>\n",
       "      <td>64623.125</td>\n",
       "    </tr>\n",
       "  </tbody>\n",
       "</table>\n",
       "<p>580 rows × 6 columns</p>\n",
       "</div>"
      ],
      "text/plain": [
       "     year country_noc  medals Code  Year        GDP\n",
       "0    1992         ARG       1  ARG  1992  16190.511\n",
       "1    1992         AUS      27  AUS  1992  30180.310\n",
       "2    1992         AUT      23  AUT  1992  38774.492\n",
       "3    1992         BEL       3  BEL  1992  36426.992\n",
       "4    1992         BRA       3  BRA  1992  10103.788\n",
       "..    ...         ...     ...  ...   ...        ...\n",
       "575  2022         POL       1  POL  2022  37706.605\n",
       "576  2022         SVK       2  SVK  2022  33176.184\n",
       "577  2022         SWE      18  SWE  2022  55359.344\n",
       "578  2022         UKR       1  UKR  2022  10731.440\n",
       "579  2022         USA      25  USA  2022  64623.125\n",
       "\n",
       "[580 rows x 6 columns]"
      ]
     },
     "execution_count": 12,
     "metadata": {},
     "output_type": "execute_result"
    }
   ],
   "source": [
    "# Merge by country code (\"country_noc\" / \"Code\") and year (\"year\" / \"Year\")\n",
    "df = pd.merge(df_medals, df_gdp, left_on=[\"country_noc\", \"year\"], right_on=[\"Code\", \"Year\"])\n",
    "\n",
    "df"
   ]
  },
  {
   "cell_type": "markdown",
   "metadata": {},
   "source": [
    "Lets plot the medals won by country compared to their GDP per capita."
   ]
  },
  {
   "cell_type": "code",
   "execution_count": 42,
   "metadata": {},
   "outputs": [
    {
     "data": {
      "image/png": "[encoded data removed]",
      "text/plain": [
       "<Figure size 1000x600 with 1 Axes>"
      ]
     },
     "metadata": {},
     "output_type": "display_data"
    }
   ],
   "source": [
    "# Plot the GDP per capita vs. the number of medals for 2020\n",
    "year = 2020\n",
    "df_yr = df[df[\"year\"] == year]\n",
    "plt.figure(figsize=(10, 6))\n",
    "plt.scatter(df_yr[\"GDP\"], df_yr[\"medals\"], alpha=0.5)\n",
    "\n",
    "# Highlight some countries\n",
    "countries = [\"USA\", \"CHN\", \"ESP\", \"FRA\", \"GBR\", \"ITA\"]\n",
    "for country in countries:\n",
    "    df_country = df_yr[df_yr[\"country_noc\"] == country]\n",
    "    x = df_country[\"GDP\"].iloc[0]\n",
    "    y = df_country[\"medals\"].iloc[0]\n",
    "    plt.scatter(x, y, color=\"black\", alpha=0.3)\n",
    "    # Add a text above the point\n",
    "    plt.text(x * 1.01, y * 1.01, country, fontsize=12)\n",
    "\n",
    "plt.xlabel(\"GDP per capita ($)\")\n",
    "plt.ylabel(\"Total medals\")\n",
    "plt.title(f\"Number of medals vs. GDP per capita in {year}\")\n",
    "plt.grid(True)\n",
    "plt.show()"
   ]
  },
  {
   "cell_type": "markdown",
   "metadata": {},
   "source": [
    "<div style=\"color: red\">\n",
    "<strong>Challenge:</strong> Why doesn’t our chart match the one from the news article?\n",
    "\n",
    "Aside from covering different years, the key difference is that we're using GDP per capita, while the article uses total GDP!\n",
    "\n",
    "To match their approach, we would need to compute total GDP by finding the population of each country for every year.\n",
    "</div>"
   ]
  },
  {
   "cell_type": "markdown",
   "metadata": {},
   "source": [
    "---"
   ]
  },
  {
   "cell_type": "markdown",
   "metadata": {},
   "source": [
    "## 🛠️ Building a Pipeline Script\n",
    "\n",
    "Now, let's enhance your `olympics.py` script. Add a new function called `add_gdp()` that will:\n",
    "\n",
    "- Take as input the dataframe processed by `count_medals()` and the path to the \"gdp.csv\" file.\n",
    "- Preprocess the GDP data as needed.\n",
    "- Return a combined dataframe, merging both the medals and GDP data by year and country."
   ]
  }
 ],
 "metadata": {
  "kernelspec": {
   "display_name": "base",
   "language": "python",
   "name": "python3"
  },
  "language_info": {
   "codemirror_mode": {
    "name": "ipython",
    "version": 3
   },
   "file_extension": ".py",
   "mimetype": "text/x-python",
   "name": "python",
   "nbconvert_exporter": "python",
   "pygments_lexer": "ipython3",
   "version": "3.11.5"
  }
 },
 "nbformat": 4,
 "nbformat_minor": 2
}
