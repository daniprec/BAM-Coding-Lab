{
 "cells": [
  {
   "cell_type": "markdown",
   "metadata": {},
   "source": [
    "# Workshop: Olympic Medals\n",
    "\n",
    "<img src=\"https://upload.wikimedia.org/wikipedia/commons/thumb/5/5c/Olympic_rings_without_rims.svg/1920px-Olympic_rings_without_rims.png\" width=300>\n",
    "\n",
    "First clone the repository at [https://github.com/daniprec/BAM-Coding-Lab](https://github.com/daniprec/BAM-Coding-Lab)\n",
    "\n",
    "You will find the data inside `data`.\n"
   ]
  },
  {
   "cell_type": "markdown",
   "metadata": {},
   "source": [
    "---"
   ]
  },
  {
   "cell_type": "code",
   "execution_count": 1,
   "metadata": {},
   "outputs": [],
   "source": [
    "import pandas as pd"
   ]
  },
  {
   "cell_type": "markdown",
   "metadata": {},
   "source": [
    "## 🔍 Data Loading and EDA"
   ]
  },
  {
   "cell_type": "markdown",
   "metadata": {},
   "source": [
    "We will analyze the \"olympic_medals.csv\" file, which includes data on all Olympic athletes from 1908 to 2022, covering both the Summer and Winter Games."
   ]
  },
  {
   "cell_type": "code",
   "execution_count": 3,
   "metadata": {},
   "outputs": [
    {
     "data": {
      "text/html": [
       "<div>\n",
       "<style scoped>\n",
       "    .dataframe tbody tr th:only-of-type {\n",
       "        vertical-align: middle;\n",
       "    }\n",
       "\n",
       "    .dataframe tbody tr th {\n",
       "        vertical-align: top;\n",
       "    }\n",
       "\n",
       "    .dataframe thead th {\n",
       "        text-align: right;\n",
       "    }\n",
       "</style>\n",
       "<table border=\"1\" class=\"dataframe\">\n",
       "  <thead>\n",
       "    <tr style=\"text-align: right;\">\n",
       "      <th></th>\n",
       "      <th>edition</th>\n",
       "      <th>edition_id</th>\n",
       "      <th>country_noc</th>\n",
       "      <th>sport</th>\n",
       "      <th>event</th>\n",
       "      <th>result_id</th>\n",
       "      <th>athlete</th>\n",
       "      <th>athlete_id</th>\n",
       "      <th>pos</th>\n",
       "      <th>medal</th>\n",
       "      <th>isTeamSport</th>\n",
       "    </tr>\n",
       "  </thead>\n",
       "  <tbody>\n",
       "    <tr>\n",
       "      <th>0</th>\n",
       "      <td>1908 Summer Olympics</td>\n",
       "      <td>5</td>\n",
       "      <td>ANZ</td>\n",
       "      <td>Athletics</td>\n",
       "      <td>100 metres, Men</td>\n",
       "      <td>56265</td>\n",
       "      <td>Ernest Hutcheon</td>\n",
       "      <td>64710</td>\n",
       "      <td>DNS</td>\n",
       "      <td>NaN</td>\n",
       "      <td>False</td>\n",
       "    </tr>\n",
       "    <tr>\n",
       "      <th>1</th>\n",
       "      <td>1908 Summer Olympics</td>\n",
       "      <td>5</td>\n",
       "      <td>ANZ</td>\n",
       "      <td>Athletics</td>\n",
       "      <td>400 metres, Men</td>\n",
       "      <td>56313</td>\n",
       "      <td>Henry Murray</td>\n",
       "      <td>64756</td>\n",
       "      <td>DNS</td>\n",
       "      <td>NaN</td>\n",
       "      <td>False</td>\n",
       "    </tr>\n",
       "    <tr>\n",
       "      <th>2</th>\n",
       "      <td>1908 Summer Olympics</td>\n",
       "      <td>5</td>\n",
       "      <td>ANZ</td>\n",
       "      <td>Athletics</td>\n",
       "      <td>800 metres, Men</td>\n",
       "      <td>56338</td>\n",
       "      <td>Harvey Sutton</td>\n",
       "      <td>64808</td>\n",
       "      <td>3 h8 r1/2</td>\n",
       "      <td>NaN</td>\n",
       "      <td>False</td>\n",
       "    </tr>\n",
       "    <tr>\n",
       "      <th>3</th>\n",
       "      <td>1908 Summer Olympics</td>\n",
       "      <td>5</td>\n",
       "      <td>ANZ</td>\n",
       "      <td>Athletics</td>\n",
       "      <td>800 metres, Men</td>\n",
       "      <td>56338</td>\n",
       "      <td>Guy Haskins</td>\n",
       "      <td>922519</td>\n",
       "      <td>DNS</td>\n",
       "      <td>NaN</td>\n",
       "      <td>False</td>\n",
       "    </tr>\n",
       "    <tr>\n",
       "      <th>4</th>\n",
       "      <td>1908 Summer Olympics</td>\n",
       "      <td>5</td>\n",
       "      <td>ANZ</td>\n",
       "      <td>Athletics</td>\n",
       "      <td>800 metres, Men</td>\n",
       "      <td>56338</td>\n",
       "      <td>Joseph Lynch</td>\n",
       "      <td>64735</td>\n",
       "      <td>DNS</td>\n",
       "      <td>NaN</td>\n",
       "      <td>False</td>\n",
       "    </tr>\n",
       "  </tbody>\n",
       "</table>\n",
       "</div>"
      ],
      "text/plain": [
       "                edition  edition_id country_noc      sport            event  \\\n",
       "0  1908 Summer Olympics           5         ANZ  Athletics  100 metres, Men   \n",
       "1  1908 Summer Olympics           5         ANZ  Athletics  400 metres, Men   \n",
       "2  1908 Summer Olympics           5         ANZ  Athletics  800 metres, Men   \n",
       "3  1908 Summer Olympics           5         ANZ  Athletics  800 metres, Men   \n",
       "4  1908 Summer Olympics           5         ANZ  Athletics  800 metres, Men   \n",
       "\n",
       "   result_id          athlete  athlete_id        pos medal  isTeamSport  \n",
       "0      56265  Ernest Hutcheon       64710        DNS   NaN        False  \n",
       "1      56313     Henry Murray       64756        DNS   NaN        False  \n",
       "2      56338    Harvey Sutton       64808  3 h8 r1/2   NaN        False  \n",
       "3      56338      Guy Haskins      922519        DNS   NaN        False  \n",
       "4      56338     Joseph Lynch       64735        DNS   NaN        False  "
      ]
     },
     "execution_count": 3,
     "metadata": {},
     "output_type": "execute_result"
    }
   ],
   "source": [
    "# \"..\" means \"go up one level\" or \"parent directory\"\n",
    "path_csv = \"../data/olympics_medals.csv\"\n",
    "\n",
    "# We use \"read_csv\" to load a \"csv\" file\n",
    "df = pd.read_csv(path_csv)\n",
    "\n",
    "# \"head(n)\" returns the first n rows\n",
    "df.head(5)"
   ]
  },
  {
   "cell_type": "markdown",
   "metadata": {},
   "source": [
    "Take a moment to review the column names. Do we understand their meanings?"
   ]
  },
  {
   "cell_type": "code",
   "execution_count": 5,
   "metadata": {},
   "outputs": [
    {
     "name": "stdout",
     "output_type": "stream",
     "text": [
      "Index(['edition', 'edition_id', 'country_noc', 'sport', 'event', 'result_id',\n",
      "       'athlete', 'athlete_id', 'pos', 'medal', 'isTeamSport'],\n",
      "      dtype='object')\n"
     ]
    }
   ],
   "source": [
    "# \"columns\" returns the column names\n",
    "print(df.columns)"
   ]
  },
  {
   "cell_type": "code",
   "execution_count": 4,
   "metadata": {},
   "outputs": [
    {
     "name": "stdout",
     "output_type": "stream",
     "text": [
      "(316834, 11)\n"
     ]
    }
   ],
   "source": [
    "# \"shape\" returns the number of rows and columns\n",
    "print(df.shape)"
   ]
  },
  {
   "cell_type": "code",
   "execution_count": 6,
   "metadata": {},
   "outputs": [
    {
     "name": "stdout",
     "output_type": "stream",
     "text": [
      "<class 'pandas.core.frame.DataFrame'>\n",
      "RangeIndex: 316834 entries, 0 to 316833\n",
      "Data columns (total 11 columns):\n",
      " #   Column       Non-Null Count   Dtype \n",
      "---  ------       --------------   ----- \n",
      " 0   edition      316834 non-null  object\n",
      " 1   edition_id   316834 non-null  int64 \n",
      " 2   country_noc  316834 non-null  object\n",
      " 3   sport        316834 non-null  object\n",
      " 4   event        316834 non-null  object\n",
      " 5   result_id    316834 non-null  int64 \n",
      " 6   athlete      316834 non-null  object\n",
      " 7   athlete_id   316834 non-null  int64 \n",
      " 8   pos          316834 non-null  object\n",
      " 9   medal        44687 non-null   object\n",
      " 10  isTeamSport  316834 non-null  bool  \n",
      "dtypes: bool(1), int64(3), object(7)\n",
      "memory usage: 24.5+ MB\n",
      "None\n"
     ]
    }
   ],
   "source": [
    "# \"info()\" prints a concise summary of a dataframe\n",
    "print(df.info())"
   ]
  },
  {
   "cell_type": "markdown",
   "metadata": {},
   "source": [
    "---"
   ]
  },
  {
   "cell_type": "markdown",
   "metadata": {},
   "source": [
    "## ⚡ Data Cleaning and Processing\n",
    "\n",
    "Before we can analyze our dataset, it's important to clean and process the data.\n",
    "\n",
    "Clean data ensures that our insights are accurate and meaningful."
   ]
  },
  {
   "cell_type": "markdown",
   "metadata": {},
   "source": [
    "### NaN Values\n",
    "\n",
    "During our Exploratory Data Analysis (EDA), we noticed that the **\"medal\"** column contains NaN values.\n",
    "\n",
    "When this happens, we first must ask us what does the missing value mean.\n",
    "\n",
    "These NaNs represent the absence of a medal. To avoid confusion, let's replace these missing values with something more meaningful, such as `\"No Medal\"`, to clarify that the athlete did not win a medal."
   ]
  },
  {
   "cell_type": "code",
   "execution_count": 9,
   "metadata": {},
   "outputs": [
    {
     "name": "stdout",
     "output_type": "stream",
     "text": [
      "medal\n",
      "Gold      15072\n",
      "Bronze    14939\n",
      "Silver    14676\n",
      "Name: count, dtype: int64\n"
     ]
    }
   ],
   "source": [
    "# We first see the values contained inside the \"medal\" column\n",
    "print(df[\"medal\"].value_counts())"
   ]
  },
  {
   "cell_type": "code",
   "execution_count": 10,
   "metadata": {},
   "outputs": [
    {
     "name": "stdout",
     "output_type": "stream",
     "text": [
      "medal\n",
      "No        272147\n",
      "Gold       15072\n",
      "Bronze     14939\n",
      "Silver     14676\n",
      "Name: count, dtype: int64\n"
     ]
    }
   ],
   "source": [
    "# Replace NaNs with \"No\"\n",
    "df[\"medal\"].fillna(\"No\", inplace=True)\n",
    "\n",
    "print(df[\"medal\"].value_counts())"
   ]
  },
  {
   "cell_type": "markdown",
   "metadata": {},
   "source": [
    "### Splitting a Column"
   ]
  },
  {
   "cell_type": "markdown",
   "metadata": {},
   "source": [
    "The **\"edition\"** column contains both the season and year, for example, \"2020 Summer Olympics\". Let's split this into two separate columns:\n",
    "\n",
    "- **\"year\"**, for example, \"2020\" (this should be an integer).\n",
    "- **\"season\"**, for example, \"Summer\" (as a string)."
   ]
  },
  {
   "cell_type": "code",
   "execution_count": 7,
   "metadata": {},
   "outputs": [
    {
     "name": "stdout",
     "output_type": "stream",
     "text": [
      "edition\n",
      "2020 Summer Olympics        14816\n",
      "2000 Summer Olympics        14041\n",
      "1996 Summer Olympics        14018\n",
      "2008 Summer Olympics        13980\n",
      "2016 Summer Olympics        13942\n",
      "2004 Summer Olympics        13762\n",
      "1992 Summer Olympics        13516\n",
      "2012 Summer Olympics        13196\n",
      "1988 Summer Olympics        12780\n",
      "1972 Summer Olympics        10903\n",
      "1984 Summer Olympics        10113\n",
      "1968 Summer Olympics         9377\n",
      "1952 Summer Olympics         9301\n",
      "1976 Summer Olympics         8990\n",
      "1960 Summer Olympics         8573\n",
      "1964 Summer Olympics         8208\n",
      "1980 Summer Olympics         7499\n",
      "1936 Summer Olympics         7397\n",
      "1948 Summer Olympics         7162\n",
      "1924 Summer Olympics         6503\n",
      "1928 Summer Olympics         5780\n",
      "1912 Summer Olympics         5427\n",
      "2022 Winter Olympics         5408\n",
      "1956 Summer Olympics         5317\n",
      "2018 Winter Olympics         5196\n",
      "2014 Winter Olympics         4984\n",
      "1920 Summer Olympics         4676\n",
      "2010 Winter Olympics         4467\n",
      "2006 Winter Olympics         4446\n",
      "1900 Summer Olympics         4332\n",
      "2002 Winter Olympics         4166\n",
      "1908 Summer Olympics         4037\n",
      "1992 Winter Olympics         3713\n",
      "1998 Winter Olympics         3698\n",
      "1932 Summer Olympics         3306\n",
      "1994 Winter Olympics         3225\n",
      "1988 Winter Olympics         3166\n",
      "1904 Summer Olympics         3087\n",
      "1984 Winter Olympics         2178\n",
      "1968 Winter Olympics         1943\n",
      "1964 Winter Olympics         1903\n",
      "1976 Winter Olympics         1880\n",
      "1980 Winter Olympics         1768\n",
      "1972 Winter Olympics         1683\n",
      "1956 Winter Olympics         1345\n",
      "1936 Winter Olympics         1193\n",
      "1948 Winter Olympics         1149\n",
      "1960 Winter Olympics         1134\n",
      "1952 Winter Olympics         1133\n",
      "1932 Winter Olympics          790\n",
      "1928 Winter Olympics          652\n",
      "1924 Winter Olympics          633\n",
      "1896 Summer Olympics          619\n",
      "1956 Equestrian Olympics      300\n",
      "1906  Intercalated Games       23\n",
      "Name: count, dtype: int64\n"
     ]
    }
   ],
   "source": [
    "print(df[\"edition\"].value_counts())"
   ]
  },
  {
   "cell_type": "code",
   "execution_count": 8,
   "metadata": {},
   "outputs": [
    {
     "name": "stdout",
     "output_type": "stream",
     "text": [
      "year\n",
      "1992    17229\n",
      "1988    15946\n",
      "2020    14816\n",
      "2000    14041\n",
      "1996    14018\n",
      "Name: count, dtype: int64\n",
      "season\n",
      "Summer          254658\n",
      "Winter           61853\n",
      "Equestrian         300\n",
      "Intercalated        23\n",
      "Name: count, dtype: int64\n"
     ]
    }
   ],
   "source": [
    "# We use the string method \"split\"\n",
    "# Alternative: use regex with \"re\" library (more robust)\n",
    "df[\"year\"] = df[\"edition\"].apply(lambda x: int(x.split()[0]))\n",
    "print(df[\"year\"].value_counts()[:5])\n",
    "\n",
    "df[\"season\"] = df[\"edition\"].apply(lambda x: x.split()[1])\n",
    "print(df[\"season\"].value_counts())"
   ]
  },
  {
   "cell_type": "markdown",
   "metadata": {},
   "source": [
    "In the **\"event\"** column, you'll notice that some entries include the tags \"Men\" or \"Women\" to indicate gender. Let's split this column into two new columns:\n",
    "\n",
    "- **\"event_simple\"**: This will contain the event name without gender.\n",
    "- **\"gender\"**: This will be either \"Men\", \"Women\", or \"Unknown\" if no gender is specified.\n",
    "\n",
    "For example, the value `\"Football, Men\"` will be split into `\"Football\"` and `\"Men\"`."
   ]
  },
  {
   "cell_type": "code",
   "execution_count": 11,
   "metadata": {},
   "outputs": [],
   "source": [
    "def split_event_gender(event: str) -> tuple:\n",
    "  if \"women\" in event.lower():\n",
    "    return event.split(\", \")[0], \"Women\"\n",
    "  elif \"men\" in event.lower():\n",
    "    return event.split(\", \")[0], \"Men\"\n",
    "  else:\n",
    "    return event, \"Unknown\"\n",
    "\n",
    "df[[\"event_simple\", \"gender\"]] = df[\"event\"].apply(split_event_gender).apply(pd.Series)"
   ]
  },
  {
   "cell_type": "markdown",
   "metadata": {},
   "source": [
    "---"
   ]
  },
  {
   "cell_type": "markdown",
   "metadata": {},
   "source": [
    "## 🛠️ Building a Pipeline Script\n",
    "\n",
    "After loading and cleaning the data, it’s a good idea to organize everything into a function. This makes the process reusable and keeps the code tidy.\n",
    "\n",
    "In the same folder as this notebook, create a file called `olympics.py`. Inside, define a function `load_and_preprocess()` that:\n",
    "\n",
    "- Takes the path to the `olympics_medals.csv` file as input.\n",
    "- Loads the data, cleans it, and adds new columns like `year` and `gender`.\n",
    "- Returns the cleaned dataframe.\n",
    "\n",
    "This way, you can easily regenerate the processed data from raw files, keeping everything streamlined and efficient!"
   ]
  },
  {
   "cell_type": "markdown",
   "metadata": {},
   "source": []
  }
 ],
 "metadata": {
  "kernelspec": {
   "display_name": "Python 3",
   "language": "python",
   "name": "python3"
  },
  "language_info": {
   "codemirror_mode": {
    "name": "ipython",
    "version": 3
   },
   "file_extension": ".py",
   "mimetype": "text/x-python",
   "name": "python",
   "nbconvert_exporter": "python",
   "pygments_lexer": "ipython3",
   "version": "3.11.5"
  }
 },
 "nbformat": 4,
 "nbformat_minor": 2
}
